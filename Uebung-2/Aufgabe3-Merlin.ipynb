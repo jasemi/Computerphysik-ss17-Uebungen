{
 "cells": [
  {
   "cell_type": "markdown",
   "metadata": {},
   "source": [
    "# Aufgabe 3"
   ]
  },
  {
   "cell_type": "markdown",
   "metadata": {},
   "source": [
    "### Funktion zum berechnen der Kettenbruchkoeffizienten"
   ]
  },
  {
   "cell_type": "code",
   "execution_count": 10,
   "metadata": {
    "collapsed": false
   },
   "outputs": [
    {
     "name": "stderr",
     "output_type": "stream",
     "text": [
      "WARNING: Method definition fractionize(Any, Any) in module Main at In[2]:2 overwritten at In[10]:2.\n"
     ]
    },
    {
     "data": {
      "text/plain": [
       "fractionize (generic function with 1 method)"
      ]
     },
     "execution_count": 10,
     "metadata": {},
     "output_type": "execute_result"
    }
   ],
   "source": [
    "function fractionize(x, n)\n",
    "    base = Float64(x)\n",
    "    fracs = Array(Int, n+1)\n",
    "    for i = 1:n+1\n",
    "        fracs[i] = Int(round(base, RoundDown))\n",
    "        if abs(base-fracs[i]) < 1e-6\n",
    "            return fracs[1:i]\n",
    "        end\n",
    "        base = 1/(base-fracs[i])\n",
    "    end\n",
    "    return fracs\n",
    "end"
   ]
  },
  {
   "cell_type": "markdown",
   "metadata": {},
   "source": [
    "### Funktion zum Berechnen des Kettebruchs"
   ]
  },
  {
   "cell_type": "code",
   "execution_count": 3,
   "metadata": {
    "collapsed": false
   },
   "outputs": [
    {
     "data": {
      "text/plain": [
       "defractionize (generic function with 1 method)"
      ]
     },
     "execution_count": 3,
     "metadata": {},
     "output_type": "execute_result"
    }
   ],
   "source": [
    "function defractionize(arr)\n",
    "    if length(arr) == 1\n",
    "        return arr[1]\n",
    "    else\n",
    "        return arr[1]+1//defractionize(arr[2:length(arr)])\n",
    "    end\n",
    "end"
   ]
  },
  {
   "cell_type": "markdown",
   "metadata": {},
   "source": [
    "### Funktion zum Berechnen der Folge von rationalen Zahlen"
   ]
  },
  {
   "cell_type": "code",
   "execution_count": 4,
   "metadata": {
    "collapsed": false
   },
   "outputs": [
    {
     "data": {
      "text/plain": [
       "rational_sequence (generic function with 1 method)"
      ]
     },
     "execution_count": 4,
     "metadata": {},
     "output_type": "execute_result"
    }
   ],
   "source": [
    "function rational_sequence(arr)\n",
    "    output = Array(Rational, length(arr))\n",
    "    for i = 1:length(arr)\n",
    "        output[i] = defractionize(arr[1:i])\n",
    "    end\n",
    "\n",
    "    return output\n",
    "end"
   ]
  },
  {
   "cell_type": "markdown",
   "metadata": {},
   "source": [
    "### Teil a"
   ]
  },
  {
   "cell_type": "code",
   "execution_count": 5,
   "metadata": {
    "collapsed": false
   },
   "outputs": [
    {
     "name": "stdout",
     "output_type": "stream",
     "text": [
      "Die Kettenbruchkoeffizienten von 4.9253583296 sind: [4,1,12,2,1,1]\n"
     ]
    }
   ],
   "source": [
    "x = rand()*10\n",
    "n = 5\n",
    "a = fractionize(x, n)\n",
    "println(@sprintf(\"Die Kettenbruchkoeffizienten von %.10f sind: \", x), a)"
   ]
  },
  {
   "cell_type": "markdown",
   "metadata": {},
   "source": [
    "### Teil b"
   ]
  },
  {
   "cell_type": "code",
   "execution_count": 12,
   "metadata": {
    "collapsed": false
   },
   "outputs": [
    {
     "name": "stdout",
     "output_type": "stream",
     "text": [
      "Die Kettenbruchkoeffizienten von 8.7377974081 sind: [8,1,2,1,4,2,1]\n",
      "Die relative Abweichung betraegt 0.0010585056%\n"
     ]
    }
   ],
   "source": [
    "x = rand()*10\n",
    "n = 6\n",
    "a = fractionize(x, n)\n",
    "x_new = defractionize(a)\n",
    "relative_error = abs(x-x_new)/x\n",
    "println(@sprintf(\"Die Kettenbruchkoeffizienten von %.10f sind: \", x), a)\n",
    "println(@sprintf(\"Die relative Abweichung betraegt %.10f%%\", relative_error*100))"
   ]
  },
  {
   "cell_type": "markdown",
   "metadata": {},
   "source": [
    "### Teil c"
   ]
  },
  {
   "cell_type": "code",
   "execution_count": 13,
   "metadata": {
    "collapsed": false
   },
   "outputs": [
    {
     "name": "stdout",
     "output_type": "stream",
     "text": [
      "Die Kettenbruchkoeffizienten von pi sind: [3,7,15,1,292,1]\n",
      "Die ersten 6 rationalen Näherungen sind: Rational[3//1,22//7,333//106,355//113,103993//33102,104348//33215]\n"
     ]
    }
   ],
   "source": [
    "x = pi\n",
    "n = 5\n",
    "a = fractionize(x, n)\n",
    "sequence = rational_sequence(a)\n",
    "println(\"Die Kettenbruchkoeffizienten von pi sind: \", a)\n",
    "println(@sprintf(\"Die ersten %i rationalen Näherungen sind: \", n+1), sequence)"
   ]
  },
  {
   "cell_type": "code",
   "execution_count": null,
   "metadata": {
    "collapsed": true
   },
   "outputs": [],
   "source": []
  }
 ],
 "metadata": {
  "kernelspec": {
   "display_name": "Julia 0.5.1",
   "language": "julia",
   "name": "julia-0.5"
  },
  "language_info": {
   "file_extension": ".jl",
   "mimetype": "application/julia",
   "name": "julia",
   "version": "0.5.1"
  }
 },
 "nbformat": 4,
 "nbformat_minor": 1
}

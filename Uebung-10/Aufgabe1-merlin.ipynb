{
 "cells": [
  {
   "cell_type": "markdown",
   "metadata": {},
   "source": [
    "# Aufgabe 1\n",
    "### Teil a\n",
    "$$\n",
    "M =\n",
    "\\begin{pmatrix}\n",
    "1      & -1     & 0      & \\cdots & 0      \\\\\n",
    "-1     & 2      & \\ddots & \\ddots & \\vdots \\\\\n",
    "0      & \\ddots & \\ddots &        & 0      \\\\\n",
    "\\vdots & \\ddots &        & 2      & -1     \\\\\n",
    "0      & \\cdots & 0      & -1     & 1      \\\\\n",
    "\\end{pmatrix}\n",
    "$$"
   ]
  },
  {
   "cell_type": "markdown",
   "metadata": {},
   "source": [
    "### Teil b "
   ]
  },
  {
   "cell_type": "code",
   "execution_count": 1,
   "metadata": {
    "collapsed": false
   },
   "outputs": [
    {
     "data": {
      "text/plain": [
       "M (generic function with 1 method)"
      ]
     },
     "execution_count": 1,
     "metadata": {},
     "output_type": "execute_result"
    }
   ],
   "source": [
    "function M(N)\n",
    "    side = vcat(zeros(1,N), eye(N-1, N))\n",
    "    diag = -2 * eye(N,N)\n",
    "    diag[1,1] = -1\n",
    "    diag[N,N] = -1\n",
    "    return diag + side + side'\n",
    "end"
   ]
  },
  {
   "cell_type": "code",
   "execution_count": 3,
   "metadata": {
    "collapsed": false
   },
   "outputs": [
    {
     "data": {
      "text/plain": [
       "10-element Array{Float64,1}:\n",
       " -3.90211   \n",
       " -3.61803   \n",
       " -3.17557   \n",
       " -2.61803   \n",
       " -2.0       \n",
       " -1.38197   \n",
       " -0.824429  \n",
       " -0.381966  \n",
       " -0.097887  \n",
       " -1.1143e-17"
      ]
     },
     "execution_count": 3,
     "metadata": {},
     "output_type": "execute_result"
    }
   ],
   "source": [
    "a = M(10)\n",
    "a_ew = eigvals(a)\n",
    "a_ev = eigvecs(a)\n",
    "a_ew"
   ]
  },
  {
   "cell_type": "code",
   "execution_count": 4,
   "metadata": {
    "collapsed": false
   },
   "outputs": [
    {
     "data": {
      "text/plain": [
       "10-element Array{Float64,1}:\n",
       " 1.97538   \n",
       " 1.90211   \n",
       " 1.78201   \n",
       " 1.61803   \n",
       " 1.41421   \n",
       " 1.17557   \n",
       " 0.907981  \n",
       " 0.618034  \n",
       " 0.312869  \n",
       " 3.33811e-9"
      ]
     },
     "execution_count": 4,
     "metadata": {},
     "output_type": "execute_result"
    }
   ],
   "source": [
    "k = m = 1\n",
    "omega = sqrt(k/m*abs(a_ew))\n",
    "omega"
   ]
  },
  {
   "cell_type": "code",
   "execution_count": 8,
   "metadata": {
    "collapsed": false
   },
   "outputs": [
    {
     "data": {
      "text/plain": [
       "1×6 Array{Float64,2}:\n",
       " 0.0  0.0  0.0  0.0  0.0  0.0"
      ]
     },
     "execution_count": 8,
     "metadata": {},
     "output_type": "execute_result"
    }
   ],
   "source": [
    "zeros(1,6)"
   ]
  },
  {
   "cell_type": "code",
   "execution_count": null,
   "metadata": {
    "collapsed": true
   },
   "outputs": [],
   "source": []
  }
 ],
 "metadata": {
  "kernelspec": {
   "display_name": "Julia 0.5.2",
   "language": "julia",
   "name": "julia-0.5"
  },
  "language_info": {
   "file_extension": ".jl",
   "mimetype": "application/julia",
   "name": "julia",
   "version": "0.5.2"
  }
 },
 "nbformat": 4,
 "nbformat_minor": 2
}

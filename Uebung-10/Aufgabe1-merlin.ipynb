{
 "cells": [
  {
   "cell_type": "markdown",
   "metadata": {},
   "source": [
    "# Aufgabe 1\n",
    "### Teil a\n",
    "$$\n",
    "M =\n",
    "\\begin{pmatrix}\n",
    "1      & -1     & 0      & \\cdots & 0      \\\\\n",
    "-1     & 2      & \\ddots & \\ddots & \\vdots \\\\\n",
    "0      & \\ddots & \\ddots &        & 0      \\\\\n",
    "\\vdots & \\ddots &        & 2      & -1     \\\\\n",
    "0      & \\cdots & 0      & -1     & 1      \\\\\n",
    "\\end{pmatrix}\n",
    "$$"
   ]
  },
  {
   "cell_type": "markdown",
   "metadata": {},
   "source": [
    "### Teil b "
   ]
  },
  {
   "cell_type": "code",
   "execution_count": 1,
   "metadata": {
    "collapsed": false
   },
   "outputs": [
    {
     "data": {
      "text/plain": [
       "M (generic function with 1 method)"
      ]
     },
     "execution_count": 1,
     "metadata": {},
     "output_type": "execute_result"
    }
   ],
   "source": [
    "function M(N)\n",
    "    side = vcat(zeros(1,N), eye(N-1, N))\n",
    "    diag = -2 * eye(N,N)\n",
    "    diag[1,1] = -1\n",
    "    diag[N,N] = -1\n",
    "    return diag + side + side'\n",
    "end"
   ]
  },
  {
   "cell_type": "code",
   "execution_count": 4,
   "metadata": {
    "collapsed": false
   },
   "outputs": [
    {
     "data": {
      "text/plain": [
       "10-element Array{Float64,1}:\n",
       " 1.97538   \n",
       " 1.90211   \n",
       " 1.78201   \n",
       " 1.61803   \n",
       " 1.41421   \n",
       " 1.17557   \n",
       " 0.907981  \n",
       " 0.618034  \n",
       " 0.312869  \n",
       " 3.33811e-9"
      ]
     },
     "execution_count": 4,
     "metadata": {},
     "output_type": "execute_result"
    }
   ],
   "source": [
    "N = 10\n",
    "a = M(N)\n",
    "a_ew = eigvals(a)\n",
    "a_ev = eigvecs(a)\n",
    "k = m = 1\n",
    "omega = sqrt(k/m*abs(a_ew))\n",
    "omega"
   ]
  },
  {
   "cell_type": "markdown",
   "metadata": {},
   "source": [
    "### Teil c\n",
    "$$ \n",
    "\\xi(0) = \\sum_{n=1}^N \\vec a_n \\alpha_n = \\begin{pmatrix} 1 \\\\ 0 \\\\ \\vdots \\\\ 0 \\end{pmatrix} = A\\vec\\alpha \\\\\n",
    "mit\\ A = (\\vec a_1, \\vec a_2, \\cdots, \\vec a_N)\\\\\n",
    "\\dot \\xi(0) = \\sum_{n=1}^N \\vec a_n \\beta_n \\omega_n = \\begin{pmatrix} 0 \\\\ 0 \\\\ \\vdots \\\\ 0 \\end{pmatrix} = B\\vec\\beta \\\\\n",
    "mit\\ B = (\\omega_1 \\vec a_1, \\omega_2 \\vec a_2, \\cdots, \\omega_N \\vec a_N) \\\\\n",
    "\\\\\n",
    "\\Leftrightarrow \\vec \\alpha = A^{-1} \\begin{pmatrix} 1 \\\\ 0 \\\\ \\vdots \\\\ 0 \\end{pmatrix}\\ und\\ \n",
    "\\vec \\beta = B^{-1} \\begin{pmatrix} 0 \\\\ 0 \\\\ \\vdots \\\\ 0 \\end{pmatrix}\n",
    "$$\n"
   ]
  },
  {
   "cell_type": "code",
   "execution_count": 25,
   "metadata": {
    "collapsed": false
   },
   "outputs": [
    {
     "data": {
      "text/plain": [
       "10-element Array{Float64,1}:\n",
       " -0.0699596\n",
       "  0.138197 \n",
       "  0.203031 \n",
       " -0.262866 \n",
       "  0.316228 \n",
       " -0.361803 \n",
       " -0.39847  \n",
       " -0.425325 \n",
       " -0.441708 \n",
       "  0.316228 "
      ]
     },
     "execution_count": 25,
     "metadata": {},
     "output_type": "execute_result"
    }
   ],
   "source": [
    "A = copy(a_ev)\n",
    "B = copy(a_ev)\n",
    "for i in 1:N\n",
    "    B[i,:] = B[i,:] .* a_ew[i]\n",
    "end\n",
    "xi_0 = zeros(N)\n",
    "xi_0[1] = 1\n",
    "dot_xi_0 = zeros(N)\n",
    "alpha = inv(A)*xi_0"
   ]
  },
  {
   "cell_type": "code",
   "execution_count": 17,
   "metadata": {
    "collapsed": false
   },
   "outputs": [
    {
     "data": {
      "text/plain": [
       "10-element Array{Float64,1}:\n",
       " 0.0\n",
       " 0.0\n",
       " 0.0\n",
       " 0.0\n",
       " 0.0\n",
       " 0.0\n",
       " 0.0\n",
       " 0.0\n",
       " 0.0\n",
       " 0.0"
      ]
     },
     "execution_count": 17,
     "metadata": {},
     "output_type": "execute_result"
    }
   ],
   "source": [
    "beta = inv(B)*dot_xi_0"
   ]
  }
 ],
 "metadata": {
  "kernelspec": {
   "display_name": "Julia 0.5.2",
   "language": "julia",
   "name": "julia-0.5"
  },
  "language_info": {
   "file_extension": ".jl",
   "mimetype": "application/julia",
   "name": "julia",
   "version": "0.5.2"
  }
 },
 "nbformat": 4,
 "nbformat_minor": 2
}

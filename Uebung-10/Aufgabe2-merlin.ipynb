{
 "cells": [
  {
   "cell_type": "markdown",
   "metadata": {},
   "source": [
    "# Aufgabe 2"
   ]
  },
  {
   "cell_type": "code",
   "execution_count": 1,
   "metadata": {
    "collapsed": false
   },
   "outputs": [
    {
     "name": "stdout",
     "output_type": "stream",
     "text": [
      "Sz_ges = 2.0\n",
      "  l = 16, |psi> = |1111>\n",
      "Sz_ges = 1.0\n",
      "  l = 8, |psi> = |0111>\n",
      "  l = 12, |psi> = |1011>\n",
      "  l = 14, |psi> = |1101>\n",
      "  l = 15, |psi> = |1110>\n",
      "Sz_ges = 0.0\n",
      "  l = 4, |psi> = |0011>\n",
      "  l = 6, |psi> = |0101>\n",
      "  l = 7, |psi> = |0110>\n",
      "  l = 10, |psi> = |1001>\n",
      "  l = 11, |psi> = |1010>\n",
      "  l = 13, |psi> = |1100>\n",
      "Sz_ges = -1.0\n",
      "  l = 2, |psi> = |0001>\n",
      "  l = 3, |psi> = |0010>\n",
      "  l = 5, |psi> = |0100>\n",
      "  l = 9, |psi> = |1000>\n",
      "Sz_ges = -2.0\n",
      "  l = 1, |psi> = |0000>\n"
     ]
    }
   ],
   "source": [
    "function spinner(N)\n",
    "    spins = Array(Int, 2^N, N)\n",
    "    for i in 0:2^N-1\n",
    "        base2 = bin(i,N)\n",
    "        for j in 1:N\n",
    "            if base2[j] == '0'\n",
    "                spins[i+1,j] = 0\n",
    "            else\n",
    "                spins[i+1,j] = 1\n",
    "            end\n",
    "        end\n",
    "    end\n",
    "    for Sz in .5*N:-1:-.5*N\n",
    "        println(\"Sz_ges = $Sz\")\n",
    "        for l in 1:2^N\n",
    "            if sum(spins[l,:]-.5) == Sz\n",
    "                psi = \"\"\n",
    "                for val in spins[l,:]\n",
    "                    psi = string(psi, val)\n",
    "                end\n",
    "                println(\"  l = $l, |psi> = |$psi>\")\n",
    "            end\n",
    "        end\n",
    "    end \n",
    "end\n",
    "            \n",
    "spinner(4)"
   ]
  }
 ],
 "metadata": {
  "kernelspec": {
   "display_name": "Julia 0.5.2",
   "language": "julia",
   "name": "julia-0.5"
  },
  "language_info": {
   "file_extension": ".jl",
   "mimetype": "application/julia",
   "name": "julia",
   "version": "0.5.2"
  }
 },
 "nbformat": 4,
 "nbformat_minor": 2
}

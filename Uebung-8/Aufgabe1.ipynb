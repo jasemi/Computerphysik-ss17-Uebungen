{
 "cells": [
  {
   "cell_type": "code",
   "execution_count": 5,
   "metadata": {
    "collapsed": true
   },
   "outputs": [],
   "source": [
    "using PyPlot"
   ]
  },
  {
   "cell_type": "markdown",
   "metadata": {},
   "source": [
    "# Aufgabe 1"
   ]
  },
  {
   "cell_type": "markdown",
   "metadata": {},
   "source": [
    "gauss1.jl:"
   ]
  },
  {
   "cell_type": "code",
   "execution_count": 24,
   "metadata": {
    "collapsed": false
   },
   "outputs": [
    {
     "data": {
      "image/png": "[encoded data removed]",
      "text/plain": [
       "PyPlot.Figure(PyObject <matplotlib.figure.Figure object at 0x7f46ace975d0>)"
      ]
     },
     "metadata": {},
     "output_type": "display_data"
    }
   ],
   "source": [
    "N = 10\n",
    "A = rand(N,N)\n",
    "A[1,1] = 0.99\n",
    "A[1,2] = 0.01\n",
    "\n",
    "b = rand(N)\n",
    "\n",
    "Ap1 = 1.0*A\n",
    "bp1 = 1.0*b\n",
    "\n",
    "imshow(mod(A+0.00001,1), cmap=\"gray\", interpolation=\"none\")\n",
    "\n",
    "for n in 1:(N-1)\n",
    "  for i in (n+1):N\n",
    "    factor = A[i,n]/A[n,n]\n",
    "    for j in 1:N\n",
    "      Ap1[i,j] = A[i,j] - factor*A[n,j]\n",
    "    end\n",
    "    bp1[i] = b[i] - factor*b[n]\n",
    "  end\n",
    "  A = 1.0*Ap1\n",
    "  b = 1.0*bp1\n",
    "  sleep(1.0)\n",
    "  imshow(mod(A+0.00001,1), cmap=\"gray\", interpolation=\"none\")\n",
    "end"
   ]
  },
  {
   "cell_type": "markdown",
   "metadata": {},
   "source": [
    "### Teil a"
   ]
  },
  {
   "cell_type": "markdown",
   "metadata": {},
   "source": [
    "$x_i = \\frac{b_i-\\sum^N_{j=i+1}A^{(N-1)}_{i,j}x_j}{A^{(N-1)}_{i,i}}$ mit $A^{(N-1)}_{i,i} = \\begin{pmatrix}\n",
    "A^{(N-1)}_{1,1} & A^{(N-1)}_{1,2} & \\dots  & A^{(N-1)}_{1,j} \\\\\n",
    "0\t            & A^{(N-1)}_{2,2} & \\dots  & A^{(N-1)}_{2,j} \\\\\n",
    "\\vdots          & 0 \t          & \\ddots & \\vdots          \\\\\n",
    "0 \t            & \\dots           & 0\t   & A^{(N-1)}_{i,j}\n",
    "\\end{pmatrix}$"
   ]
  },
  {
   "cell_type": "markdown",
   "metadata": {},
   "source": [
    "### Teil b"
   ]
  },
  {
   "cell_type": "code",
   "execution_count": 34,
   "metadata": {
    "collapsed": false
   },
   "outputs": [],
   "source": [
    "x = Array(Float64, N)\n",
    "for i in N:-1:1\n",
    "    sum = 0\n",
    "    for j in i+1:N\n",
    "        sum += A[i,j]*x[j]\n",
    "    end\n",
    "    x[i] = (b[i]-sum)/A[i,i]\n",
    "end"
   ]
  },
  {
   "cell_type": "markdown",
   "metadata": {},
   "source": [
    "### Teil c"
   ]
  },
  {
   "cell_type": "code",
   "execution_count": 41,
   "metadata": {
    "collapsed": false
   },
   "outputs": [
    {
     "data": {
      "text/plain": [
       "3-element Array{Float64,1}:\n",
       " -4.0\n",
       " -6.0\n",
       " -3.5"
      ]
     },
     "execution_count": 41,
     "metadata": {},
     "output_type": "execute_result"
    }
   ],
   "source": [
    "N = 3\n",
    "A = Array{Float64}([1 -2 2; 2 1 -4;-1 -1 2])\n",
    "b = Array{Float64}([1 0 3])\n",
    "\n",
    "# gauss1.jl\n",
    "Ap1 = 1.0*A\n",
    "bp1 = 1.0*b\n",
    "for n in 1:(N-1)\n",
    "  for i in (n+1):N\n",
    "    factor = A[i,n]/A[n,n]\n",
    "    for j in 1:N\n",
    "      Ap1[i,j] = A[i,j] - factor*A[n,j]\n",
    "    end\n",
    "    bp1[i] = b[i] - factor*b[n]\n",
    "  end\n",
    "  A = 1.0*Ap1\n",
    "  b = 1.0*bp1\n",
    "end\n",
    "\n",
    "# Teil b \n",
    "x = Array(Float64, N)\n",
    "for i in N:-1:1\n",
    "    sum = 0\n",
    "    for j in i+1:N\n",
    "        sum += A[i,j]*x[j]\n",
    "    end\n",
    "    x[i] = (b[i]-sum)/A[i,i]\n",
    "end\n",
    "\n",
    "x"
   ]
  },
  {
   "cell_type": "code",
   "execution_count": null,
   "metadata": {
    "collapsed": true
   },
   "outputs": [],
   "source": []
  }
 ],
 "metadata": {
  "kernelspec": {
   "display_name": "Julia 0.5.2",
   "language": "julia",
   "name": "julia-0.5"
  },
  "language_info": {
   "file_extension": ".jl",
   "mimetype": "application/julia",
   "name": "julia",
   "version": "0.5.2"
  }
 },
 "nbformat": 4,
 "nbformat_minor": 2
}

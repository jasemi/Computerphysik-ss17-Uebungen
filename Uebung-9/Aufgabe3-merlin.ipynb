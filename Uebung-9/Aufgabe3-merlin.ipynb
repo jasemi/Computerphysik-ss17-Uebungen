{
 "cells": [
  {
   "cell_type": "code",
   "execution_count": 1,
   "metadata": {
    "collapsed": true
   },
   "outputs": [],
   "source": [
    "using PyPlot"
   ]
  },
  {
   "cell_type": "markdown",
   "metadata": {},
   "source": [
    "# Aufgabe 2\n",
    "### Teil a\n",
    "Das Minimum des verschobenen harmonischen Oszillators liegt bei:\n",
    "$$\n",
    "    \\frac {dV} {dx} = m \\omega^2 x + \\theta \\sqrt {2 \\frac{m\\omega}{\\hbar}} \\overset{!}{=} 0\n",
    "    \\Leftrightarrow x_{min} = - \\frac {\\theta \\sqrt {2 \\frac{m\\omega}{\\hbar}}} {m \\omega^2} \\\\\n",
    "    \\Leftrightarrow V_{min} = - \\frac{\\theta^2}{\\omega\\hbar}\n",
    "$$\n",
    "Das Spektrum der Eigenenergien des verschobenen harmonischen Oszillators ist das Spektrum des unverschobenen plus $V_{min}$.\n",
    "$$\n",
    "    E'_n = E_n + V_{min} = \\hbar \\omega (n+1) - \\frac{\\theta^2}{\\omega\\hbar}\n",
    "$$\n",
    "### Teil b"
   ]
  },
  {
   "cell_type": "code",
   "execution_count": 2,
   "metadata": {
    "collapsed": false
   },
   "outputs": [
    {
     "data": {
      "text/plain": [
       "9×9 Array{Float64,2}:\n",
       " 1.0  1.0      0.0      0.0      0.0      0.0      0.0      0.0      0.0    \n",
       " 1.0  2.0      1.41421  0.0      0.0      0.0      0.0      0.0      0.0    \n",
       " 0.0  1.41421  3.0      1.73205  0.0      0.0      0.0      0.0      0.0    \n",
       " 0.0  0.0      1.73205  4.0      2.0      0.0      0.0      0.0      0.0    \n",
       " 0.0  0.0      0.0      2.0      5.0      2.23607  0.0      0.0      0.0    \n",
       " 0.0  0.0      0.0      0.0      2.23607  6.0      2.44949  0.0      0.0    \n",
       " 0.0  0.0      0.0      0.0      0.0      2.44949  7.0      2.64575  0.0    \n",
       " 0.0  0.0      0.0      0.0      0.0      0.0      2.64575  8.0      2.82843\n",
       " 0.0  0.0      0.0      0.0      0.0      0.0      0.0      2.82843  9.0    "
      ]
     },
     "execution_count": 2,
     "metadata": {},
     "output_type": "execute_result"
    }
   ],
   "source": [
    "function E(n)\n",
    "    return n+1\n",
    "end\n",
    "function H(theta, N)\n",
    "    matrix = zeros(N,N)\n",
    "    for i in 1:N\n",
    "        matrix[i,i] = E(i-1)\n",
    "        if i < N\n",
    "            matrix[i,i+1] = sqrt(i)*theta\n",
    "            matrix[i+1,i] = sqrt(i)*theta\n",
    "        end\n",
    "    end\n",
    "    return matrix\n",
    "end\n",
    "H(1,9)"
   ]
  },
  {
   "cell_type": "markdown",
   "metadata": {},
   "source": [
    "### Teil c"
   ]
  },
  {
   "cell_type": "code",
   "execution_count": 6,
   "metadata": {
    "collapsed": false
   },
   "outputs": [
    {
     "data": {
      "image/png": "[encoded data removed]",
      "text/plain": [
       "PyPlot.Figure(PyObject <matplotlib.figure.Figure object at 0x7f69106da510>)"
      ]
     },
     "metadata": {},
     "output_type": "display_data"
    },
    {
     "name": "stderr",
     "output_type": "stream",
     "text": [
      "WARNING: Method definition E_(Any, Any) in module Main at In[5]:2 overwritten at In[6]:2.\n",
      "WARNING: Method definition f(Any, Any, Any) in module Main at In[5]:5 overwritten at In[6]:5.\n",
      "WARNING: Method definition bisect(Any) in module Main at In[5]:9 overwritten at In[6]:9.\n",
      "WARNING: Method definition bisect(Any, Any) in module Main at In[5]:9 overwritten at In[6]:9.\n"
     ]
    }
   ],
   "source": [
    "function E_(n, theta)\n",
    "    return E(n)- theta^2\n",
    "end\n",
    "function f(lambda, theta, N)\n",
    "    A = H(theta,N)\n",
    "    return det(A-lambda*ones(A))\n",
    "end\n",
    "function bisect(f, args=[]) # nur für lineare Funktionen\n",
    "    a = 1\n",
    "    while sign(f(a,args...)) == sign(f(-a,args...))\n",
    "        a *= 2\n",
    "    end\n",
    "    left = -a\n",
    "    right = a\n",
    "    mid = 0\n",
    "    while f(mid, args...) > 1e-10\n",
    "        if f(mid,args...) > 0\n",
    "            if f(left,args...) > 0\n",
    "                left = mid\n",
    "            else\n",
    "                right = mid\n",
    "            end\n",
    "        else\n",
    "            if f(left,args...) > 0\n",
    "                right = mid\n",
    "            else\n",
    "                left = mid\n",
    "            end\n",
    "        end\n",
    "        mid = (right+left)/2\n",
    "    end\n",
    "    return mid\n",
    "end\n",
    "lambda = linspace(-5,5)\n",
    "for omega in linspace(0,2,5)\n",
    "    plot(lambda, f.(lambda,omega,10)) \n",
    "end\n",
    "show()"
   ]
  },
  {
   "cell_type": "markdown",
   "metadata": {},
   "source": [
    "Ich habe nicht verstanden warum $f(\\lambda)$ linear ist. "
   ]
  }
 ],
 "metadata": {
  "kernelspec": {
   "display_name": "Julia 0.5.2",
   "language": "julia",
   "name": "julia-0.5"
  },
  "language_info": {
   "file_extension": ".jl",
   "mimetype": "application/julia",
   "name": "julia",
   "version": "0.5.2"
  }
 },
 "nbformat": 4,
 "nbformat_minor": 2
}

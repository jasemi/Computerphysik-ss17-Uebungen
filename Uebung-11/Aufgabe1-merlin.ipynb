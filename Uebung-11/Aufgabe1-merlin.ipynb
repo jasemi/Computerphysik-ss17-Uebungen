{
 "cells": [
  {
   "cell_type": "markdown",
   "metadata": {},
   "source": [
    "# Aufgabe 1"
   ]
  },
  {
   "cell_type": "code",
   "execution_count": 1,
   "metadata": {},
   "outputs": [],
   "source": [
    "function mocaint(func, limits, N, args=[])\n",
    "    dim = size(limits)[1]\n",
    "    V = 1\n",
    "    random_numbers = rand(N, dim)\n",
    "    for i in 1:dim\n",
    "        V *= limits[i,2]-limits[i,1] # Volumen berechnen\n",
    "        # die Zufallszahlen muessen an das Intervall angepasst werden\n",
    "        random_numbers[:,i] = random_numbers[:,i]*(limits[i,2]-limits[i,1])+limits[i,1]\n",
    "    end\n",
    "    sum = 0.\n",
    "    for i in 1:N\n",
    "        sum += func(random_numbers[i,:]...,args...)\n",
    "    end\n",
    "    return V/N*sum\n",
    "end\n",
    "function custom_mean(array)\n",
    "    M = mean(array)\n",
    "    Delta_M = mean(abs.(array-M))\n",
    "    return [M Delta_M]\n",
    "end\n",
    ";"
   ]
  },
  {
   "cell_type": "code",
   "execution_count": 2,
   "metadata": {},
   "outputs": [
    {
     "name": "stdout",
     "output_type": "stream",
     "text": [
      "Bei 100 Durchlaeufen mit 100 Zufallszahlen ist der durchschnittliche Wert des Integrals 0.55585+/-0.02365\n",
      "Bei 100 Durchlaeufen mit 1000 Zufallszahlen ist der durchschnittliche Wert des Integrals 0.56223+/-0.00799\n",
      "Bei 100 Durchlaeufen mit 10000 Zufallszahlen ist der durchschnittliche Wert des Integrals 0.56187+/-0.00223\n"
     ]
    }
   ],
   "source": [
    "f(x,y,z) = sin(x*(y+2*z))\n",
    "\n",
    "limits = [0 1;0 1; 0 1]\n",
    "M = 100\n",
    "for N in Int.([1e2 1e3 1e4])\n",
    "    calculations = Array{Float64}(M)\n",
    "    for i in 1:M\n",
    "        calculations[i] = mocaint(f, limits, N)\n",
    "    end\n",
    "    (MEAN, DMEAN) = custom_mean(calculations)\n",
    "    MEAN = round(MEAN, 5)\n",
    "    DMEAN = round(DMEAN, 5)\n",
    "    println(\"Bei $M Durchlaeufen mit $N Zufallszahlen ist der durchschnittliche Wert des Integrals $MEAN+/-$DMEAN\")\n",
    "end"
   ]
  },
  {
   "cell_type": "code",
   "execution_count": null,
   "metadata": {
    "collapsed": true
   },
   "outputs": [],
   "source": []
  }
 ],
 "metadata": {
  "kernelspec": {
   "display_name": "Julia 0.6.0",
   "language": "julia",
   "name": "julia-0.6"
  },
  "language_info": {
   "file_extension": ".jl",
   "mimetype": "application/julia",
   "name": "julia",
   "version": "0.6.0"
  }
 },
 "nbformat": 4,
 "nbformat_minor": 2
}

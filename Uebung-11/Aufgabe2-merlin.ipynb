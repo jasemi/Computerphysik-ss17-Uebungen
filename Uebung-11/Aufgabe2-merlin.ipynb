{
 "cells": [
  {
   "cell_type": "code",
   "execution_count": 2,
   "metadata": {
    "collapsed": true
   },
   "outputs": [],
   "source": [
    "using PyPlot;"
   ]
  },
  {
   "cell_type": "markdown",
   "metadata": {},
   "source": [
    "# Aufgabe 2\n",
    "### Teil a"
   ]
  },
  {
   "cell_type": "code",
   "execution_count": 3,
   "metadata": {
    "collapsed": false
   },
   "outputs": [],
   "source": [
    "function mocaint(func, limits, N, args=[])\n",
    "    dim = size(limits)[1]\n",
    "    V = 1\n",
    "    random_numbers = rand(N, dim)\n",
    "    for i in 1:dim\n",
    "        V *= limits[i,2]-limits[i,1] # Volumen berechnen\n",
    "        # die Zufallszahlen muessen an das Intervall angepasst werden\n",
    "        random_numbers[:,i] = random_numbers[:,i]*(limits[i,2]-limits[i,1])+limits[i,1]\n",
    "    end\n",
    "    sum = 0.\n",
    "    for i in 1:N\n",
    "        sum += func(random_numbers[i,:]...,args...)\n",
    "    end\n",
    "    return V/N*sum\n",
    "end\n",
    "function f(r...)\n",
    "    if norm(vcat(r...)) < 1\n",
    "        return 1\n",
    "    else\n",
    "        return 0\n",
    "    end\n",
    "end\n",
    ";"
   ]
  },
  {
   "cell_type": "code",
   "execution_count": 4,
   "metadata": {
    "collapsed": false
   },
   "outputs": [],
   "source": [
    "function mDsphere(d, N)\n",
    "    a = [-1; 1]\n",
    "    limits = hcat(fill(a, d)...)'\n",
    "    return mocaint(f, limits, N)\n",
    "end\n",
    ";"
   ]
  },
  {
   "cell_type": "markdown",
   "metadata": {},
   "source": [
    "### Teil b"
   ]
  },
  {
   "cell_type": "code",
   "execution_count": 6,
   "metadata": {
    "collapsed": false
   },
   "outputs": [
    {
     "data": {
      "image/png": "[encoded data removed]",
      "text/plain": [
       "PyPlot.Figure(PyObject <matplotlib.figure.Figure object at 0x7fbed0735fd0>)"
      ]
     },
     "metadata": {},
     "output_type": "display_data"
    }
   ],
   "source": [
    "V_e_d(d) = pi^(d/2)/gamma(d/2+1)\n",
    "M = 1000\n",
    "steps = 101\n",
    "d = 2\n",
    "N = Int.(round.(linspace(1000,5000,steps),0))\n",
    "Y = Array{Float64}(steps)\n",
    "for i in 1:steps\n",
    "    res = Array{Float64}(M)\n",
    "    for j in 1:M\n",
    "        res[i] = mDsphere(d, N[i])\n",
    "    end\n",
    "    Y[i] = abs(mean(res-V_e_d(d))/M)\n",
    "end\n",
    "plot(N, Y)\n",
    "show()"
   ]
  },
  {
   "cell_type": "code",
   "execution_count": 12,
   "metadata": {
    "collapsed": false
   },
   "outputs": [
    {
     "data": {
      "text/plain": [
       "4.152"
      ]
     },
     "execution_count": 12,
     "metadata": {},
     "output_type": "execute_result"
    }
   ],
   "source": [
    "mDsphere(3,1000)"
   ]
  },
  {
   "cell_type": "code",
   "execution_count": null,
   "metadata": {
    "collapsed": true
   },
   "outputs": [],
   "source": []
  }
 ],
 "metadata": {
  "kernelspec": {
   "display_name": "Julia 0.6.0-rc2",
   "language": "julia",
   "name": "julia-0.6"
  },
  "language_info": {
   "file_extension": ".jl",
   "mimetype": "application/julia",
   "name": "julia",
   "version": "0.6.0"
  }
 },
 "nbformat": 4,
 "nbformat_minor": 2
}

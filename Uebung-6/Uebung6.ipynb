{
 "cells": [
  {
   "cell_type": "code",
   "execution_count": 5,
   "metadata": {
    "collapsed": false
   },
   "outputs": [],
   "source": [
    "using PyPlot #; pygui(true)"
   ]
  },
  {
   "cell_type": "markdown",
   "metadata": {},
   "source": [
    "# Aufgabe1"
   ]
  },
  {
   "cell_type": "markdown",
   "metadata": {},
   "source": [
    "### Teilaufgabe a"
   ]
  },
  {
   "cell_type": "markdown",
   "metadata": {},
   "source": [
    "Mit $\\vec{u} = \\begin{pmatrix} u_1 \\\\ u_2 \\\\ u_3 \\\\ u_4 \\end{pmatrix} = \\begin{pmatrix} r \\\\ \\dot r \\\\ \\phi \\\\ \\dot \\phi \\end{pmatrix}$ und $\\frac{\\partial V}{\\partial r} = \\frac{\\dot r}{r^2}$ lässt sich die Differentialgleichung umformen zu:\n",
    "\\begin{align}\n",
    "\\frac{\\partial}{\\partial t} \\begin{pmatrix} u_1 \\\\ u_2 \\\\ u_3 \\\\ u_4 \\end{pmatrix} =\n",
    "\\begin{pmatrix} u_2 \\\\ u_1u_4^2-\\frac{1}{mu_1^2} \\\\ u_4 \\\\ -2\\frac{u_2u_4}{u_1^2} \\end{pmatrix} = f\n",
    "\\end{align}\n"
   ]
  },
  {
   "cell_type": "code",
   "execution_count": 6,
   "metadata": {
    "collapsed": false
   },
   "outputs": [
    {
     "name": "stderr",
     "output_type": "stream",
     "text": [
      "WARNING: Method definition euler(Any, Any, Any) in module Main at In[2]:4 overwritten at In[6]:4.\n",
      "WARNING: Method definition euler(Any, Any, Any, Any) in module Main at In[2]:4 overwritten at In[6]:4.\n"
     ]
    },
    {
     "data": {
      "text/plain": [
       "euler (generic function with 2 methods)"
      ]
     },
     "execution_count": 6,
     "metadata": {},
     "output_type": "execute_result"
    }
   ],
   "source": [
    "function euler(f, start, t, fargs = [])\n",
    "    # f = zu Differenzierende Funktion; start = Anfangswertvektor (Aufsteigend in der Ordnung)\n",
    "    ## t = Array der Zeititerationen; fargs = moegliche Argumente der Funktion\n",
    "    steps = length(t)-1\n",
    "    dt = (t[steps+1] - t[1])/(steps)\n",
    "    order = length(start) # Ordnung der DGL\n",
    "    result = Array(Float64, order, steps+1)\n",
    "    result[:, 1] = start\n",
    "    for i in 1:steps\n",
    "        last_values = result[:, i] # Ergebnisse aus letzer Iterarion\n",
    "        result[:,i+1] = last_values + dt * f(last_values..., fargs...) # Euler Schritt\n",
    "    end\n",
    "    return [result[i,:] for i in 1:order]\n",
    "end"
   ]
  },
  {
   "cell_type": "code",
   "execution_count": 7,
   "metadata": {
    "collapsed": false
   },
   "outputs": [
    {
     "name": "stderr",
     "output_type": "stream",
     "text": [
      "WARNING: Method definition f(Any, Any, Any, Any, Any) in module Main at In[3]:2 overwritten at In[7]:2.\n",
      "WARNING: Method definition rad2xy(Any, Any) in module Main at In[3]:5 overwritten at In[7]:5.\n"
     ]
    },
    {
     "data": {
      "text/plain": [
       "rad2xy (generic function with 1 method)"
      ]
     },
     "execution_count": 7,
     "metadata": {},
     "output_type": "execute_result"
    }
   ],
   "source": [
    "function f(u1, u2, u3, u4, m)\n",
    "    return [u2, u1*u4^2-1/(m*u1^2), u4, -2*u2*u4/u1^2]\n",
    "end\n",
    "function rad2xy(radius, phi)\n",
    "    N = length(radius)\n",
    "    x = Array(Float64, N)\n",
    "    y = Array(Float64, N)\n",
    "    for i in 1:N\n",
    "        x[i] = r[i]*cos(phi[i])\n",
    "        y[i] = r[i]*sin(phi[i])\n",
    "    end\n",
    "    return [x, y]\n",
    "end"
   ]
  },
  {
   "cell_type": "code",
   "execution_count": null,
   "metadata": {
    "collapsed": false,
    "scrolled": false
   },
   "outputs": [
    {
     "data": {
      "image/png": "[encoded data removed]",
      "text/plain": [
       "PyPlot.Figure(PyObject <matplotlib.figure.Figure object at 0x7f7e15189ed0>)"
      ]
     },
     "metadata": {},
     "output_type": "display_data"
    }
   ],
   "source": [
    "t = linspace(0.,100., 1e3)\n",
    "start = [1,0,0,1]\n",
    "m = 1\n",
    "(r, dr, phi, dphi) = euler(f, start, t, m)\n",
    "(x, y) = rad2xy(r, phi)\n",
    "\n",
    "fig = figure()\n",
    "for n = 1:length(x)\n",
    "    plot(0, 0, \"bo\", animated=true)\n",
    "    plot(x[n], y[n], \"o\", animated=true)\n",
    "    axis = gca()\n",
    "    axis[:set_xlim]([-2,2])\n",
    "    axis[:set_ylim]([-2,2])\n",
    "    sleep(.1)\n",
    "    IJulia.clear_output(true)\n",
    "    display(fig)\n",
    "    cla()\n",
    "end\n"
   ]
  },
  {
   "cell_type": "code",
   "execution_count": null,
   "metadata": {
    "collapsed": false
   },
   "outputs": [],
   "source": [
    "for "
   ]
  },
  {
   "cell_type": "code",
   "execution_count": null,
   "metadata": {
    "collapsed": true
   },
   "outputs": [],
   "source": []
  }
 ],
 "metadata": {
  "kernelspec": {
   "display_name": "Julia 0.5.2",
   "language": "julia",
   "name": "julia-0.5"
  },
  "language_info": {
   "file_extension": ".jl",
   "mimetype": "application/julia",
   "name": "julia",
   "version": "0.5.2"
  }
 },
 "nbformat": 4,
 "nbformat_minor": 2
}

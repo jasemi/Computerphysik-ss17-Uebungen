{
 "cells": [
  {
   "cell_type": "markdown",
   "metadata": {},
   "source": [
    "# Aufgabe 1"
   ]
  },
  {
   "cell_type": "code",
   "execution_count": 28,
   "metadata": {
    "collapsed": true
   },
   "outputs": [],
   "source": [
    "using PyPlot"
   ]
  },
  {
   "cell_type": "code",
   "execution_count": 33,
   "metadata": {
    "collapsed": false
   },
   "outputs": [],
   "source": [
    "function int2spin(integer,N)\n",
    "    vec = split(string(bin(integer,N)),\"\")\n",
    "    vec = map(x->parse(Int,x), vec)\n",
    "    return vec-.5\n",
    "end\n",
    "function H(spins, J, h)\n",
    "    N = length(spins)\n",
    "    sum1 = 0\n",
    "    for i in 1:N-1\n",
    "        sum1 += spins[i]*spins[i+1]\n",
    "    end\n",
    "    return -J*sum1-h*sum(spins)\n",
    "end\n",
    "function boltz(spins, T, J, h)\n",
    "    k_B = 1\n",
    "    return exp(-H(spins, J, h)/(k_B*T))\n",
    "end\n",
    "function M(T, N, J, h)\n",
    "    \n",
    "    Z = 0\n",
    "    for i in 0:2^N-1\n",
    "        Z += boltz(int2spin(i,N), T, J, h)\n",
    "    end\n",
    "    \n",
    "    sum1 = 0\n",
    "    for i in 0:2^N-1\n",
    "        spins = int2spin(i,N)\n",
    "        sum1 += boltz(spins, T, J, h)*sum(spins)/Z\n",
    "    end\n",
    "    return sum1\n",
    "end;    "
   ]
  },
  {
   "cell_type": "code",
   "execution_count": null,
   "metadata": {
    "collapsed": false
   },
   "outputs": [],
   "source": [
    "J = 1; N = 14; h_list = [.1 .2 .3 1.]; steps = 101\n",
    "T_list = linspace(.1,5,steps)\n",
    "figure(1)\n",
    "for h in h_list\n",
    "    M_list = Array{Float64}(steps)\n",
    "    for i in 1:steps\n",
    "        M_list[i] = M(T_list[i], N, J, h)\n",
    "    end\n",
    "    plot(T_list, M_list, label=\"h=$h\")\n",
    "end\n",
    "legend()\n",
    "xlabel(\"Temperatur\")\n",
    "ylabel(\"Magnetisierung\")\n",
    "show()"
   ]
  },
  {
   "cell_type": "code",
   "execution_count": null,
   "metadata": {
    "collapsed": true
   },
   "outputs": [],
   "source": []
  }
 ],
 "metadata": {
  "kernelspec": {
   "display_name": "Julia 0.6.0-rc2",
   "language": "julia",
   "name": "julia-0.6"
  },
  "language_info": {
   "file_extension": ".jl",
   "mimetype": "application/julia",
   "name": "julia",
   "version": "0.6.0"
  }
 },
 "nbformat": 4,
 "nbformat_minor": 2
}

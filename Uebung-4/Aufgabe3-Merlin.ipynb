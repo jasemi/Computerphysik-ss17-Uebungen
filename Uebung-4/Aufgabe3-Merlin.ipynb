{
 "cells": [
  {
   "cell_type": "markdown",
   "metadata": {},
   "source": [
    "### Teilaufgabe a"
   ]
  },
  {
   "cell_type": "code",
   "execution_count": 1,
   "metadata": {
    "collapsed": false
   },
   "outputs": [
    {
     "name": "stdout",
     "output_type": "stream",
     "text": [
      "27\t28\n",
      "26\t28\n",
      "26\t29\n",
      "25\t29\n",
      "25\t30\n",
      "24\t30\n",
      "24\t31\n",
      "23\t31\n",
      "23\t32\n",
      "22\t32\n",
      "22\t33\n",
      "22\t34\n",
      "21\t34\n",
      "21\t35\n",
      "20\t35\n",
      "20\t36\n",
      "20\t37\n",
      "19\t37\n",
      "19\t38\n",
      "19\t39\n",
      "18\t39\n",
      "18\t40\n",
      "18\t41\n",
      "17\t41\n",
      "17\t42\n",
      "17\t43\n"
     ]
    },
    {
     "data": {
      "text/plain": [
       "(17,43)"
      ]
     },
     "execution_count": 1,
     "metadata": {},
     "output_type": "execute_result"
    }
   ],
   "source": [
    "function factorize_me(M, output=true)\n",
    "    f1 = Int(round(sqrt(M), RoundDown))\n",
    "    f2 = f1+1\n",
    "    while f1 > 0\n",
    "        if output\n",
    "            println(@sprintf(\"%i\\t%i\", f1, f2))\n",
    "        end\n",
    "        if f1*f2 == M\n",
    "            break\n",
    "        elseif f1*f2 > M\n",
    "            f1 -= 1\n",
    "        else\n",
    "            f2 +=1\n",
    "        end\n",
    "    end\n",
    "    return (f1, f2)\n",
    "end\n",
    "factorize_me(731)"
   ]
  },
  {
   "cell_type": "markdown",
   "metadata": {},
   "source": [
    "### Teilaufgabe b"
   ]
  },
  {
   "cell_type": "code",
   "execution_count": 2,
   "metadata": {
    "collapsed": false
   },
   "outputs": [
    {
     "name": "stdout",
     "output_type": "stream",
     "text": [
      "z1 is the product of 56453 and 89413\n",
      "z2 is the product of 56453 and 524287\n",
      "z3 is the product of 8238221 and 8238831\n",
      "z4 is the product of 1237238221 and 1258138831\n"
     ]
    }
   ],
   "source": [
    "z = [5047632089, 29597574011, 67873310559651, 1556617449037459651]\n",
    "for i in 1:4\n",
    "    (f1, f2) = factorize_me(z[i], false)\n",
    "    println(@sprintf(\"z%i is the product of %i and %i\", i, f1, f2))\n",
    "end"
   ]
  }
 ],
 "metadata": {
  "kernelspec": {
   "display_name": "Julia 0.5.1",
   "language": "julia",
   "name": "julia-0.5"
  },
  "language_info": {
   "file_extension": ".jl",
   "mimetype": "application/julia",
   "name": "julia",
   "version": "0.5.1"
  }
 },
 "nbformat": 4,
 "nbformat_minor": 1
}

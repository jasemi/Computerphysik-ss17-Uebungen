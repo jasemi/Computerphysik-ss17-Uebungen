{
 "cells": [
  {
   "cell_type": "code",
   "execution_count": 1,
   "metadata": {
    "collapsed": false
   },
   "outputs": [
    {
     "data": {
      "text/plain": [
       "toDecimal (generic function with 1 method)"
      ]
     },
     "execution_count": 1,
     "metadata": {},
     "output_type": "execute_result"
    }
   ],
   "source": [
    "# Part A\n",
    "function toDecimal(integer, base)\n",
    "  pos = 1\n",
    "  result = 0\n",
    "  while integer >= 10 ^ (pos-1)\n",
    "    value = Int(round(integer%10^pos/10^(pos-1), RoundDown))\n",
    "    if value < base\n",
    "      result = result + value * base ^ (pos-1)\n",
    "    else\n",
    "      throw(ArgumentError(\"value higher than base\"))\n",
    "    end\n",
    "    pos = pos+1\n",
    "  end\n",
    "  return result\n",
    "end"
   ]
  },
  {
   "cell_type": "code",
   "execution_count": 2,
   "metadata": {
    "collapsed": false
   },
   "outputs": [
    {
     "name": "stdout",
     "output_type": "stream",
     "text": [
      "Part B results\n",
      "5240 base 6 is in decimals 1176\n",
      "12012 base 3 is in decimals 140\n",
      "888 base 9 is in decimals 728\n",
      "\n"
     ]
    }
   ],
   "source": [
    "# Part B\n",
    "println(\"Part B results\")\n",
    "println(\"5240 base 6 is in decimals \", toDecimal(5240, 6))\n",
    "println(\"12012 base 3 is in decimals \", toDecimal(12012, 3))\n",
    "println(\"888 base 9 is in decimals \", toDecimal(888, 9), \"\\n\")"
   ]
  },
  {
   "cell_type": "code",
   "execution_count": 3,
   "metadata": {
    "collapsed": false
   },
   "outputs": [
    {
     "data": {
      "text/plain": [
       "countPos (generic function with 1 method)"
      ]
     },
     "execution_count": 3,
     "metadata": {},
     "output_type": "execute_result"
    }
   ],
   "source": [
    "# Part C\n",
    "function countPos(decimal, base)\n",
    "  pos = 0\n",
    "  while decimal / base ^ pos > 1\n",
    "    pos = pos+1\n",
    "  end\n",
    "  return pos\n",
    "end"
   ]
  },
  {
   "cell_type": "code",
   "execution_count": 4,
   "metadata": {
    "collapsed": false
   },
   "outputs": [
    {
     "name": "stdout",
     "output_type": "stream",
     "text": [
      "Part C results\n",
      "displaying 1111 in base 2 needs 11 places\n",
      "displaying 1111 in base 3 needs 7 places\n",
      "displaying 1111 in base 4 needs 6 places\n",
      "displaying 1111 in base 5 needs 5 places\n",
      "displaying 1111 in base 6 needs 4 places\n",
      "displaying 1111 in base 7 needs 4 places\n",
      "displaying 1111 in base 8 needs 4 places\n",
      "displaying 1111 in base 9 needs 4 places\n"
     ]
    }
   ],
   "source": [
    "# Part C\n",
    "println(\"Part C results\")\n",
    "for i = 2:9\n",
    "  println(\"displaying 1111 in base \", i, \" needs \", countPos(1111, i), \" places\")\n",
    "end"
   ]
  },
  {
   "cell_type": "code",
   "execution_count": null,
   "metadata": {
    "collapsed": true
   },
   "outputs": [],
   "source": []
  }
 ],
 "metadata": {
  "kernelspec": {
   "display_name": "Julia 0.5.1",
   "language": "julia",
   "name": "julia-0.5"
  },
  "language_info": {
   "file_extension": ".jl",
   "mimetype": "application/julia",
   "name": "julia",
   "version": "0.5.1"
  }
 },
 "nbformat": 4,
 "nbformat_minor": 2
}

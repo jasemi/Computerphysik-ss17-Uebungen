{
 "cells": [
  {
   "cell_type": "code",
   "execution_count": 1,
   "metadata": {
    "collapsed": false
   },
   "outputs": [
    {
     "name": "stdout",
     "output_type": "stream",
     "text": [
      "Summe über sqrt(n) für n aus 1 bis 10: 22.4682781862041\n",
      "Summe über ln(n) für n aus 1 bis 10: 15.104412573075518\n",
      "Produkt aus allen cos(n*pi/10)+0.1 für n von 1 bis 10: 0.00047925075429687466\n",
      "Produkt aus allen sqrt(1+exp(-x)) für n von 1 bis 10: 1.2953317536888507\n"
     ]
    }
   ],
   "source": [
    "M = 10\n",
    "sum_a = 0\n",
    "sum_b = 0\n",
    "prod_c = 1\n",
    "prod_d = 1\n",
    "\n",
    "for n in 1:M\n",
    "    sum_a += sqrt(n)\n",
    "    sum_b += log(n)\n",
    "    prod_c *= ((cos((n*pi)/10)^2)+0.1)\n",
    "    prod_d *= sqrt(1+exp(-n))\n",
    "end\n",
    "\n",
    "println(\"Summe über sqrt(n) für n aus 1 bis \", M, \": \", sum_a)\n",
    "println(\"Summe über ln(n) für n aus 1 bis \", M, \": \", sum_b)\n",
    "println(\"Produkt aus allen cos(n*pi/10)+0.1 für n von 1 bis \", M, \": \", prod_c) \n",
    "println(\"Produkt aus allen sqrt(1+exp(-x)) für n von 1 bis \", M, \": \", prod_d)"
   ]
  },
  {
   "cell_type": "code",
   "execution_count": null,
   "metadata": {
    "collapsed": true
   },
   "outputs": [],
   "source": []
  }
 ],
 "metadata": {
  "kernelspec": {
   "display_name": "Julia 0.5.1",
   "language": "julia",
   "name": "julia-0.5"
  },
  "language_info": {
   "file_extension": ".jl",
   "mimetype": "application/julia",
   "name": "julia",
   "version": "0.5.1"
  }
 },
 "nbformat": 4,
 "nbformat_minor": 1
}

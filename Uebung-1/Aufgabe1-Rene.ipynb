{
 "cells": [
  {
   "cell_type": "code",
   "execution_count": 1,
   "metadata": {
    "collapsed": false
   },
   "outputs": [
    {
     "data": {
      "text/plain": [
       "a (generic function with 1 method)"
      ]
     },
     "execution_count": 1,
     "metadata": {},
     "output_type": "execute_result"
    }
   ],
   "source": [
    "function a(N)\n",
    "    r = 0\n",
    "        for n in 1:N\n",
    "            r = r + sqrt(n)\n",
    "        end\n",
    "    return r\n",
    "end"
   ]
  },
  {
   "cell_type": "code",
   "execution_count": 2,
   "metadata": {
    "collapsed": false
   },
   "outputs": [
    {
     "data": {
      "text/plain": [
       "b (generic function with 1 method)"
      ]
     },
     "execution_count": 2,
     "metadata": {},
     "output_type": "execute_result"
    }
   ],
   "source": [
    "function b(N)\n",
    "    r = 0\n",
    "        for n in 1:N\n",
    "            r += log(n)\n",
    "        end\n",
    "    return r\n",
    "end"
   ]
  },
  {
   "cell_type": "code",
   "execution_count": 3,
   "metadata": {
    "collapsed": false
   },
   "outputs": [
    {
     "data": {
      "text/plain": [
       "c (generic function with 1 method)"
      ]
     },
     "execution_count": 3,
     "metadata": {},
     "output_type": "execute_result"
    }
   ],
   "source": [
    "function c(N)\n",
    "    r = 1\n",
    "       for n in 1:N\n",
    "           r *= cos(n*pi/10)^2+0.1\n",
    "       end\n",
    "    return r\n",
    "end"
   ]
  },
  {
   "cell_type": "code",
   "execution_count": 4,
   "metadata": {
    "collapsed": false
   },
   "outputs": [
    {
     "data": {
      "text/plain": [
       "d (generic function with 1 method)"
      ]
     },
     "execution_count": 4,
     "metadata": {},
     "output_type": "execute_result"
    }
   ],
   "source": [
    "function d(N)\n",
    "   r = 1\n",
    "    for n in 1:N\n",
    "        r *= sqrt(1+exp(-n))\n",
    "    end\n",
    "   return r\n",
    "end"
   ]
  },
  {
   "cell_type": "code",
   "execution_count": 5,
   "metadata": {
    "collapsed": false
   },
   "outputs": [
    {
     "name": "stdout",
     "output_type": "stream",
     "text": [
      "Aufgabe 1a: 22.4682781862041\n",
      "Aufgabe 1b: 15.104412573075518\n",
      "Aufgabe 1c: 0.00047925075429687466\n",
      "Aufgabe 1d: 1.2953317536888507\n"
     ]
    }
   ],
   "source": [
    "M = 10\n",
    "println(\"Aufgabe 1a: \", a(M))\n",
    "println(\"Aufgabe 1b: \", b(M))\n",
    "println(\"Aufgabe 1c: \", c(M))\n",
    "println(\"Aufgabe 1d: \", d(M))"
   ]
  },
  {
   "cell_type": "code",
   "execution_count": null,
   "metadata": {
    "collapsed": true
   },
   "outputs": [],
   "source": []
  }
 ],
 "metadata": {
  "kernelspec": {
   "display_name": "Julia 0.5.1",
   "language": "julia",
   "name": "julia-0.5"
  },
  "language_info": {
   "file_extension": ".jl",
   "mimetype": "application/julia",
   "name": "julia",
   "version": "0.5.1"
  }
 },
 "nbformat": 4,
 "nbformat_minor": 1
}

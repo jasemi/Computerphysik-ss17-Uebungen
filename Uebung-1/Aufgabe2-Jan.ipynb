{
 "cells": [
  {
   "cell_type": "code",
   "execution_count": 1,
   "metadata": {
    "collapsed": false
   },
   "outputs": [
    {
     "name": "stdout",
     "output_type": "stream",
     "text": [
      "Int: -8764578968847253504\n",
      "BigInt: 265252859812191058636308480000000\n",
      "Float: 2.6525285981219103e32\n"
     ]
    }
   ],
   "source": [
    "N = 30\n",
    "fac = 1\n",
    "fac_float = 1.0\n",
    "fac_big = BigInt(1)\n",
    "for n in 1:N\n",
    "    fac *= n\n",
    "    fac_big *= n\n",
    "    fac_float *= n\n",
    "end\n",
    "println(\"Int: \", fac)\n",
    "println(\"BigInt: \", fac_big)\n",
    "println(\"Float: \", fac_float)"
   ]
  },
  {
   "cell_type": "code",
   "execution_count": null,
   "metadata": {
    "collapsed": true
   },
   "outputs": [],
   "source": []
  }
 ],
 "metadata": {
  "kernelspec": {
   "display_name": "Julia 0.5.1",
   "language": "julia",
   "name": "julia-0.5"
  },
  "language_info": {
   "file_extension": ".jl",
   "mimetype": "application/julia",
   "name": "julia",
   "version": "0.5.1"
  }
 },
 "nbformat": 4,
 "nbformat_minor": 1
}

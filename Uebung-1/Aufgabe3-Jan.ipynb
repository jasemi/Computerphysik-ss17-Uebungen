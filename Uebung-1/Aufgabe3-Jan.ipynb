{
 "cells": [
  {
   "cell_type": "code",
   "execution_count": 1,
   "metadata": {
    "collapsed": false
   },
   "outputs": [
    {
     "data": {
      "text/plain": [
       "to_dec (generic function with 1 method)"
      ]
     },
     "execution_count": 1,
     "metadata": {},
     "output_type": "execute_result"
    }
   ],
   "source": [
    "function to_dec(b,x)\n",
    "    ret = 0\n",
    "    pos = 0\n",
    "    while x >= 10^pos\n",
    "        digit = Int(trunc((x % (10^(pos+1)))/(10^pos)))\n",
    "        ret += digit * b^pos\n",
    "        pos += 1\n",
    "    end\n",
    "    return ret\n",
    "end        "
   ]
  },
  {
   "cell_type": "code",
   "execution_count": 2,
   "metadata": {
    "collapsed": false
   },
   "outputs": [
    {
     "name": "stdout",
     "output_type": "stream",
     "text": [
      "5240 base 6 in decimal is 1176\n",
      "12012 base 3 in decimal is 140\n",
      "888 base 9 in decimal is 728\n"
     ]
    }
   ],
   "source": [
    "println(\"5240 base 6 in decimal is \", to_dec(6, 5240))\n",
    "println(\"12012 base 3 in decimal is \", to_dec(3, 12012))\n",
    "println(\"888 base 9 in decimal is \", to_dec(9, 888))"
   ]
  },
  {
   "cell_type": "code",
   "execution_count": 3,
   "metadata": {
    "collapsed": false
   },
   "outputs": [
    {
     "data": {
      "text/plain": [
       "cnt_dgt (generic function with 1 method)"
      ]
     },
     "execution_count": 3,
     "metadata": {},
     "output_type": "execute_result"
    }
   ],
   "source": [
    "function cnt_dgt(b,x)\n",
    "    pos = 0\n",
    "    while (x / b^pos) > 1\n",
    "        pos += 1\n",
    "    end\n",
    "    return pos\n",
    "end"
   ]
  },
  {
   "cell_type": "code",
   "execution_count": 4,
   "metadata": {
    "collapsed": false
   },
   "outputs": [
    {
     "name": "stdout",
     "output_type": "stream",
     "text": [
      "1111 base 10 needs 11 digits in base 2\n",
      "1111 base 10 needs 7 digits in base 3\n",
      "1111 base 10 needs 6 digits in base 4\n",
      "1111 base 10 needs 5 digits in base 5\n",
      "1111 base 10 needs 4 digits in base 6\n",
      "1111 base 10 needs 4 digits in base 7\n",
      "1111 base 10 needs 4 digits in base 8\n",
      "1111 base 10 needs 4 digits in base 9\n"
     ]
    }
   ],
   "source": [
    "for i in 2:9\n",
    "    println(\"1111 base 10 needs \", cnt_dgt(i, 1111), \" digits in base \", i)\n",
    "end"
   ]
  },
  {
   "cell_type": "code",
   "execution_count": null,
   "metadata": {
    "collapsed": true
   },
   "outputs": [],
   "source": []
  }
 ],
 "metadata": {
  "kernelspec": {
   "display_name": "Julia 0.5.1",
   "language": "julia",
   "name": "julia-0.5"
  },
  "language_info": {
   "file_extension": ".jl",
   "mimetype": "application/julia",
   "name": "julia",
   "version": "0.5.1"
  }
 },
 "nbformat": 4,
 "nbformat_minor": 1
}

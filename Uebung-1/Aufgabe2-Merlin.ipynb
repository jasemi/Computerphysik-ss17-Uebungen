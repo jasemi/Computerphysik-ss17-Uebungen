{
 "cells": [
  {
   "cell_type": "code",
   "execution_count": 1,
   "metadata": {
    "collapsed": false
   },
   "outputs": [
    {
     "data": {
      "text/plain": [
       "fac (generic function with 1 method)"
      ]
     },
     "execution_count": 1,
     "metadata": {},
     "output_type": "execute_result"
    }
   ],
   "source": [
    "function fac(start, n)\n",
    "  for k = 2:n\n",
    "    start = start*k\n",
    "  end\n",
    "  return start\n",
    "end"
   ]
  },
  {
   "cell_type": "code",
   "execution_count": 2,
   "metadata": {
    "collapsed": false
   },
   "outputs": [
    {
     "name": "stdout",
     "output_type": "stream",
     "text": [
      "Result of n = 1 is: -8764578968847253504\n",
      "Result of n = BigInt(1) is: 265252859812191058636308480000000\n",
      "Result of n = 1.0 is: 2.6525285981219103e32\n"
     ]
    }
   ],
   "source": [
    "println(\"Result of n = 1 is: \", fac(1, 30))\n",
    "println(\"Result of n = BigInt(1) is: \", fac(BigInt(1), 30))\n",
    "println(\"Result of n = 1.0 is: \", fac(1.0, 30))"
   ]
  },
  {
   "cell_type": "code",
   "execution_count": null,
   "metadata": {
    "collapsed": true
   },
   "outputs": [],
   "source": []
  }
 ],
 "metadata": {
  "kernelspec": {
   "display_name": "Julia 0.5.1",
   "language": "julia",
   "name": "julia-0.5"
  },
  "language_info": {
   "file_extension": ".jl",
   "mimetype": "application/julia",
   "name": "julia",
   "version": "0.5.1"
  }
 },
 "nbformat": 4,
 "nbformat_minor": 2
}

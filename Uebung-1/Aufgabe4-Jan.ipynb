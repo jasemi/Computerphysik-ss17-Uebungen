{
 "cells": [
  {
   "cell_type": "markdown",
   "metadata": {},
   "source": [
    "a) Die Zeile wird 49^2 mal aufgerufen (2401 mal)"
   ]
  },
  {
   "cell_type": "markdown",
   "metadata": {},
   "source": [
    "b) Das Programm prüft alle Zahlen von 0 bis 2500 und bestimmt die Primzahlen nach dem Ausschlussverfahren. Jede Zahl die bei einer Multiplikation zweier natürlicher Zahlen das Ergebnis ist wird mit einer 1 Markiert. Zellen mit einer Primzahl als index enthalten nach der Schleife den Wert 0. Das Programm gibt die ersten 100 natürlichen Zahlen aus mit der 1 oder der 0 als Indikator ob es sich bei ihr um eine Primzahl handelt oder nicht."
   ]
  },
  {
   "cell_type": "code",
   "execution_count": null,
   "metadata": {
    "collapsed": true
   },
   "outputs": [],
   "source": []
  }
 ],
 "metadata": {
  "kernelspec": {
   "display_name": "Julia 0.5.1",
   "language": "julia",
   "name": "julia-0.5"
  },
  "language_info": {
   "file_extension": ".jl",
   "mimetype": "application/julia",
   "name": "julia",
   "version": "0.5.1"
  }
 },
 "nbformat": 4,
 "nbformat_minor": 1
}
